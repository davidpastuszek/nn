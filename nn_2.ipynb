{
  "nbformat": 4,
  "nbformat_minor": 0,
  "metadata": {
    "colab": {
      "provenance": [],
      "authorship_tag": "ABX9TyNnISRemuemrvsohvzl0V7Y",
      "include_colab_link": true
    },
    "kernelspec": {
      "name": "python3",
      "display_name": "Python 3"
    },
    "language_info": {
      "name": "python"
    }
  },
  "cells": [
    {
      "cell_type": "markdown",
      "metadata": {
        "id": "view-in-github",
        "colab_type": "text"
      },
      "source": [
        "<a href=\"https://colab.research.google.com/github/davidpastuszek/nn/blob/main/nn_2.ipynb\" target=\"_parent\"><img src=\"https://colab.research.google.com/assets/colab-badge.svg\" alt=\"Open In Colab\"/></a>"
      ]
    },
    {
      "cell_type": "code",
      "execution_count": 1,
      "metadata": {
        "id": "0_qwDtxaM7e5"
      },
      "outputs": [],
      "source": [
        "import numpy as np\n",
        "import pandas as pd\n",
        "import matplotlib.pyplot as plt"
      ]
    },
    {
      "cell_type": "markdown",
      "source": [
        "Aktivační fce"
      ],
      "metadata": {
        "id": "dB0fws3JmyR5"
      }
    },
    {
      "cell_type": "code",
      "source": [
        "def sigmoid(z):\n",
        "  return np.where(z<0, np.exp(z)/(1+np.exp(z)), 1/(1+np.exp(-z))) # je treba osetrit extremni hodnoty\n",
        "\n",
        "def sigmoid_der(x):\n",
        "  return np.vectorize(lambda y: y*(1-y))(x) # potrebuju pro kazdy prvek arraye (sigmoidu - derivace sigmoidu je sigm * (1- sigm ))"
      ],
      "metadata": {
        "id": "kJJW0d-OmzlX"
      },
      "execution_count": 2,
      "outputs": []
    },
    {
      "cell_type": "markdown",
      "source": [
        "Ztrátová fce"
      ],
      "metadata": {
        "id": "-hPyjaftpX9I"
      }
    },
    {
      "cell_type": "code",
      "source": [
        "def ztratova_fce(e):\n",
        "  return sum(e**2)\n",
        "\n",
        "def ztratova_der(e):\n",
        "  return -1 * (2*e)"
      ],
      "metadata": {
        "id": "kp3C6Np5m1kq"
      },
      "execution_count": 3,
      "outputs": []
    },
    {
      "cell_type": "markdown",
      "source": [
        "Neuronová síť"
      ],
      "metadata": {
        "id": "r-t6cbpepjsk"
      }
    },
    {
      "cell_type": "code",
      "source": [
        "class sit:\n",
        "    def __init__(self, x, y, p_neuronu, act_fce, der_act, loss_fce, der_loss):\n",
        "        self.x = x\n",
        "        self.y = y\n",
        "        self.pn = p_neuronu\n",
        "        self.ni = np.shape(x)[0]\n",
        "        self.nj = np.shape(x)[1] # pocet radek na vstupu\n",
        "        self.act_fce = act_fce\n",
        "        self.der_act = der_act\n",
        "        self.loss_fce = loss_fce\n",
        "        self.der_loss = der_loss\n",
        "        self.LR = 1\n",
        "        # init vah:\n",
        "        self.vahy1 = (np.random.rand(self.nj, self.pn)+0.5)/self.pn\n",
        "        self.vahy2 = (np.random.rand(self.pn, 1)+0.5)/self.pn\n",
        "        \n",
        "        self.forward_prop()\n",
        "        \n",
        "    def forward_prop(self):\n",
        "        self.LO1 = self.act_fce(np.matmul(self.x, self.vahy1))\n",
        "        self.y_hat = self.act_fce(np.matmul(self.LO1, self.vahy2))\n",
        "        self.e = self.y - self.y_hat\n",
        "        \n",
        "    def backward_prop(self):\n",
        "            self.delta2 = np.matmul(np.transpose(self.LO1), (self.der_loss(self.e)*self.der_act(self.y_hat)))\n",
        "            self.delta1 = np.matmul(np.transpose(self.x),\n",
        "                                   np.matmul((self.der_loss(self.e) *  self.der_act(self.y_hat)),\n",
        "                                            np.transpose(self.vahy2)) * self.der_act(self.LO1))\n",
        "            self.vahy1 = self.vahy1 - self.delta1 * self.LR\n",
        "            self.vahy2 = self.vahy2 - self.delta2 * self.LR\n",
        "        \n",
        "    def forecast(self, X_new):\n",
        "        self.Lf = self.act_fce(np.matmul(X_new, self.vahy1))\n",
        "        self.predict = self.act_fce(np.matmul(self.Lf, self.vahy2))\n",
        "        return self.predict\n",
        "    \n",
        "    def train(self, n_epochs, LR):\n",
        "        self.LR = LR\n",
        "        self.n_epochs = n_epochs\n",
        "        self.training = np.zeros(n_epochs)\n",
        "        \n",
        "        for i in range(self.n_epochs):\n",
        "            self.backward_prop()\n",
        "            self.forward_prop()\n",
        "            #informace pro mě dal:\n",
        "            self.training[i] = self.loss_fce(self.e)\n",
        "            if i % 50 ==0:\n",
        "                print(f\"{i}. iterace, ztrata: {self.training[i]:.2f}\")"
      ],
      "metadata": {
        "id": "B5mwBIdZpmCZ"
      },
      "execution_count": 14,
      "outputs": []
    },
    {
      "cell_type": "code",
      "source": [
        "X = np.array([[0,0],[0,1],[1,0],[1,1]])\n",
        "Y = np.array([[0],[1],[1],[0]])\n",
        "\n",
        "nase_sit = sit(X,Y, 2, sigmoid, sigmoid_der, ztratova_fce, ztratova_der)"
      ],
      "metadata": {
        "id": "BqwVrEC7qHWU"
      },
      "execution_count": 15,
      "outputs": []
    },
    {
      "cell_type": "code",
      "source": [
        "nase_sit.train(1000, 0.1)"
      ],
      "metadata": {
        "colab": {
          "base_uri": "https://localhost:8080/"
        },
        "id": "M77VzfpttpJt",
        "outputId": "bc54f69f-fb97-456f-9d71-67c336b4c72b"
      },
      "execution_count": 46,
      "outputs": [
        {
          "output_type": "stream",
          "name": "stdout",
          "text": [
            "0. iterace, ztrata: 0.13\n",
            "50. iterace, ztrata: 0.13\n",
            "100. iterace, ztrata: 0.13\n",
            "150. iterace, ztrata: 0.13\n",
            "200. iterace, ztrata: 0.13\n",
            "250. iterace, ztrata: 0.13\n",
            "300. iterace, ztrata: 0.13\n",
            "350. iterace, ztrata: 0.13\n",
            "400. iterace, ztrata: 0.13\n",
            "450. iterace, ztrata: 0.13\n",
            "500. iterace, ztrata: 0.12\n",
            "550. iterace, ztrata: 0.12\n",
            "600. iterace, ztrata: 0.12\n",
            "650. iterace, ztrata: 0.12\n",
            "700. iterace, ztrata: 0.12\n",
            "750. iterace, ztrata: 0.12\n",
            "800. iterace, ztrata: 0.12\n",
            "850. iterace, ztrata: 0.12\n",
            "900. iterace, ztrata: 0.12\n",
            "950. iterace, ztrata: 0.12\n"
          ]
        }
      ]
    },
    {
      "cell_type": "code",
      "source": [
        "import pandas as pd\n",
        "data = pd.read_csv(\"mtcars.csv\", sep=\";\")\n",
        "\n",
        "Y = np.array(data[\"mpg\"])\n",
        "X = np.array(data.loc[:,data.columns != \"mpg\"])\n",
        "\n",
        "Y.resize([len(Y), 1])\n",
        "Y.shape\n",
        "\n",
        "Ys = np.apply_along_axis(lambda x: (x-min(x))/(max(x)-min(x)), 0, Y)\n",
        "Xs = np.apply_along_axis(lambda x: (x-min(x))/(max(x)-min(x)), 0, X)"
      ],
      "metadata": {
        "id": "eZ6i-CQNuKw-"
      },
      "execution_count": 25,
      "outputs": []
    },
    {
      "cell_type": "code",
      "source": [
        "ymin = min(Y)\n",
        "ymax = max(Y)\n",
        "\n",
        "auta = sit(Xs, Ys, 6, sigmoid, sigmoid_der, ztratova_fce, ztratova_der)\n",
        "auta.train(1000, 0.1)\n",
        "\n",
        "plt.plot(auta.training)\n",
        "\n",
        "fit = auta.y_hat*(ymax-ymin)+ymin\n",
        "np.mean(np.abs(Y-fit)/Y)"
      ],
      "metadata": {
        "id": "Q6DUjQrV1NXU",
        "colab": {
          "base_uri": "https://localhost:8080/",
          "height": 821
        },
        "outputId": "4043caa5-eaac-497e-8347-bfcf175b8388"
      },
      "execution_count": 45,
      "outputs": [
        {
          "output_type": "stream",
          "name": "stdout",
          "text": [
            "0. iterace, ztrata: 993.00\n",
            "50. iterace, ztrata: 993.00\n",
            "100. iterace, ztrata: 993.00\n",
            "150. iterace, ztrata: 993.00\n",
            "200. iterace, ztrata: 993.00\n",
            "250. iterace, ztrata: 993.00\n",
            "300. iterace, ztrata: 993.00\n",
            "350. iterace, ztrata: 993.00\n",
            "400. iterace, ztrata: 993.00\n",
            "450. iterace, ztrata: 993.00\n",
            "500. iterace, ztrata: 993.00\n",
            "550. iterace, ztrata: 993.00\n",
            "600. iterace, ztrata: 993.00\n",
            "650. iterace, ztrata: 993.00\n",
            "700. iterace, ztrata: 993.00\n",
            "750. iterace, ztrata: 993.00\n",
            "800. iterace, ztrata: 993.00\n",
            "850. iterace, ztrata: 993.00\n",
            "900. iterace, ztrata: 993.00\n",
            "950. iterace, ztrata: 993.00\n"
          ]
        },
        {
          "output_type": "stream",
          "name": "stderr",
          "text": [
            "<ipython-input-45-2638f6ab6b10>:10: RuntimeWarning: divide by zero encountered in true_divide\n",
            "  np.mean(np.abs(Y-fit)/Y)\n"
          ]
        },
        {
          "output_type": "execute_result",
          "data": {
            "text/plain": [
              "inf"
            ]
          },
          "metadata": {},
          "execution_count": 45
        },
        {
          "output_type": "display_data",
          "data": {
            "text/plain": [
              "<Figure size 640x480 with 1 Axes>"
            ],
            "image/png": "[encoded data removed]"
          },
          "metadata": {}
        }
      ]
    },
    {
      "cell_type": "markdown",
      "source": [
        "Dating"
      ],
      "metadata": {
        "id": "XZm2HffFTxpb"
      }
    },
    {
      "cell_type": "code",
      "source": [
        "data = pd.read_csv(\"dating.csv\")"
      ],
      "metadata": {
        "id": "QEB91volTycq"
      },
      "execution_count": 28,
      "outputs": []
    },
    {
      "cell_type": "code",
      "source": [
        "from sklearn.model_selection import train_test_split\n",
        "\n",
        "X = np.array(data.loc[:, data.columns != \"match\"])\n",
        "Y = np.array(data[\"match\"])\n",
        "\n",
        "Y.resize([len(Y), 1])\n",
        "Y.shape\n",
        "\n",
        "Ys = np.apply_along_axis(lambda x: (x-min(x))/(max(x)-min(x)), 0, Y)\n",
        "Xs = np.apply_along_axis(lambda x: (x-min(x))/(max(x)-min(x)), 0, X)\n",
        "\n",
        "X_train, X_test, y_train, y_test = train_test_split(\n",
        "    Xs, Ys, test_size=0.2, random_state=1)\n",
        "X_train, X_val, y_train, y_val = train_test_split(\n",
        "    X_train, y_train, test_size=0.25, random_state=1)\n",
        "\n",
        "dating = sit(X_train, y_train, 40, sigmoid, sigmoid_der, ztratova_fce, ztratova_der)\n",
        "dating.train(1000, 0.01)\n",
        "\n",
        "plt.plot(dating.training)\n",
        "\n",
        "fit = dating.y_hat*(ymax-ymin)+ymin\n",
        "np.mean(np.abs(y_train-fit)/y_train)\n"
      ],
      "metadata": {
        "colab": {
          "base_uri": "https://localhost:8080/",
          "height": 821
        },
        "id": "eBqtbkGwUCWG",
        "outputId": "2d73e719-58f4-4a52-b046-8f7e2227e38f"
      },
      "execution_count": 44,
      "outputs": [
        {
          "output_type": "stream",
          "name": "stdout",
          "text": [
            "0. iterace, ztrata: 605.98\n",
            "50. iterace, ztrata: 605.97\n",
            "100. iterace, ztrata: 605.96\n",
            "150. iterace, ztrata: 605.94\n",
            "200. iterace, ztrata: 605.84\n",
            "250. iterace, ztrata: 536.09\n",
            "300. iterace, ztrata: 205.63\n",
            "350. iterace, ztrata: 106.82\n",
            "400. iterace, ztrata: 101.30\n",
            "450. iterace, ztrata: 143.01\n",
            "500. iterace, ztrata: 92.18\n",
            "550. iterace, ztrata: 89.78\n",
            "600. iterace, ztrata: 117.82\n",
            "650. iterace, ztrata: 112.43\n",
            "700. iterace, ztrata: 95.92\n",
            "750. iterace, ztrata: 98.43\n",
            "800. iterace, ztrata: 96.42\n",
            "850. iterace, ztrata: 94.99\n",
            "900. iterace, ztrata: 93.84\n",
            "950. iterace, ztrata: 92.88\n"
          ]
        },
        {
          "output_type": "stream",
          "name": "stderr",
          "text": [
            "<ipython-input-44-d7d4eed191e1>:23: RuntimeWarning: divide by zero encountered in true_divide\n",
            "  np.mean(np.abs(y_train-fit)/y_train)\n"
          ]
        },
        {
          "output_type": "execute_result",
          "data": {
            "text/plain": [
              "inf"
            ]
          },
          "metadata": {},
          "execution_count": 44
        },
        {
          "output_type": "display_data",
          "data": {
            "text/plain": [
              "<Figure size 640x480 with 1 Axes>"
            ],
            "image/png": "[encoded data removed]"
          },
          "metadata": {}
        }
      ]
    },
    {
      "cell_type": "code",
      "source": [
        "fit = dating.y_hat*(ymax-ymin)+ymin\n",
        "np.mean(np.abs(y_train-fit)/y_train)"
      ],
      "metadata": {
        "colab": {
          "base_uri": "https://localhost:8080/"
        },
        "id": "OK0IaVScXfmu",
        "outputId": "602e5084-f505-41a0-86d8-580419678f2d"
      },
      "execution_count": 37,
      "outputs": [
        {
          "output_type": "stream",
          "name": "stderr",
          "text": [
            "<ipython-input-37-739c852d64c5>:2: RuntimeWarning: divide by zero encountered in true_divide\n",
            "  np.mean(np.abs(y_train-fit)/y_train)\n"
          ]
        },
        {
          "output_type": "execute_result",
          "data": {
            "text/plain": [
              "inf"
            ]
          },
          "metadata": {},
          "execution_count": 37
        }
      ]
    },
    {
      "cell_type": "code",
      "source": [
        "y_hat = [1 if i>=0.5 else 0 for i in dating.y_hat]"
      ],
      "metadata": {
        "id": "TDCVeQ6TY_9f"
      },
      "execution_count": 40,
      "outputs": []
    },
    {
      "cell_type": "code",
      "source": [
        "class minibatch:\n",
        "  def __init__(self, x, y, p_neuronu, act_fce, der_act, loss_fce, der_loss, n_batch):\n",
        "    self.x = x\n",
        "    self.y = y\n",
        "    self.pn = p_neuronu\n",
        "    self.ni = np.shape(x)[0]\n",
        "    self.nj = np.shape(x)[1]\n",
        "    self.act_fce = act_fce\n",
        "    self.der_act = der_act\n",
        "    self.loss_fce = loss_fce\n",
        "    self.der_loss = der_loss\n",
        "    self.n_batch = n_batch\n",
        "    self.data_id = np.array([np.random.choice(range(n_batch)) for i in range(self.ni)])\n",
        "\n",
        "    self.site = []\n",
        "\n",
        "    self.total_sit = sit(x, y, p_neuronu, act_fce, der_act, loss_fce, der_act)\n",
        "\n",
        "    for i in range(n_batch):\n",
        "      self.site.append(sit(x[self.data_id==i,:], y[self.data_id==i,:],\n",
        "                           p_neuronu, act_fce, der_act, loss_fce, der_act))\n",
        "      \n",
        "  def mean_vahy(self):\n",
        "    self.mean_vahy1 = np.zeros((self.nj, self.pn))\n",
        "    self.mean_vahy2 = np.zeros((self.pn, 1))\n",
        "\n",
        "    for i in range(self.n_batch):\n",
        "      self.mean_vahy1 += (self.site[i].vahy1/self.n_batch)\n",
        "      self.mean_vahy2 += (self.site[i].vahy2/self.n_batch)\n"
      ],
      "metadata": {
        "id": "rKM712ErZYt8"
      },
      "execution_count": null,
      "outputs": []
    }
  ]
}